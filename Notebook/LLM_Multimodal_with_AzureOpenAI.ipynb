{
 "metadata": {
  "kernelspec": {
   "display_name": "Streamlit Notebook",
   "name": "streamlit"
  }
 },
 "nbformat_minor": 5,
 "nbformat": 4,
 "cells": [
  {
   "cell_type": "markdown",
   "id": "94f1a024-7020-4e2b-9157-90eaeacc4d71",
   "metadata": {
    "name": "Heading",
    "collapsed": true
   },
   "source": "# SNOWFLAKE AND AZURE OPENAI"
  },
  {
   "cell_type": "code",
   "id": "3775908f-ca36-4846-8f38-5adca39217f2",
   "metadata": {
    "language": "python",
    "name": "importpackages",
    "collapsed": false,
    "codeCollapsed": false
   },
   "source": "# Import python packages\nimport streamlit as st\nimport pandas as pd\n\nimport os\n\nfrom snowflake.snowpark.context import get_active_session\nsession = get_active_session()\nfrom openai import AzureOpenAI\n\nos.environ[\"AZURE_OPENAI_ENDPOINT\"] = '<>'\n\nos.environ[\"AZURE_OPENAI_API_KEY\"] = '<>'\ndeployment_name='<>'\napi_version = '2023-03-15-preview'",
   "execution_count": null,
   "outputs": []
  },
  {
   "cell_type": "code",
   "id": "3de2d6a2-afbb-4dc9-9e4b-8c3c6f8e2944",
   "metadata": {
    "language": "sql",
    "name": "createnetworkrule",
    "collapsed": false
   },
   "outputs": [],
   "source": "CREATE OR REPLACE NETWORK RULE CHATGPT_NETWORK_RULE\n    MODE = EGRESS\n    TYPE = HOST_PORT\n    VALUE_LIST = ('<>.openai.azure.com'); ",
   "execution_count": null
  },
  {
   "cell_type": "code",
   "id": "8d50cbf4-0c8d-4950-86cb-114990437ac9",
   "metadata": {
    "language": "sql",
    "name": "chatgptkey_secrets",
    "collapsed": false,
    "codeCollapsed": false
   },
   "source": "CREATE OR REPLACE SECRET CHATGPT_API_KEY\n    TYPE = GENERIC_STRING\n    SECRET_STRING='<>';",
   "execution_count": null,
   "outputs": []
  },
  {
   "cell_type": "code",
   "id": "c695373e-ac74-4b62-a1f1-08206cbd5c81",
   "metadata": {
    "language": "sql",
    "name": "ext_access_integration",
    "collapsed": false
   },
   "source": "CREATE OR REPLACE EXTERNAL ACCESS INTEGRATION OPENAI_INTEGRATION\n    ALLOWED_NETWORK_RULES = (CHATGPT_NETWORK_RULE)\n    ALLOWED_AUTHENTICATION_SECRETS = (CHATGPT_API_KEY)\n    ENABLED=TRUE;\n",
   "execution_count": null,
   "outputs": []
  },
  {
   "cell_type": "code",
   "id": "21f5daeb-fe00-472f-b589-e2f5353f9462",
   "metadata": {
    "language": "sql",
    "name": "chatgpt_image_function",
    "collapsed": false
   },
   "outputs": [],
   "source": "CREATE OR REPLACE FUNCTION CHATGPT_IMAGE(instructions STRING, list STRING, user_context STRING)\nreturns string\nlanguage python\nruntime_version=3.8\nhandler = 'ask_chatGPT'\nexternal_access_integrations=(OPENAI_INTEGRATION)\npackages = ('openai')\nSECRETS = ('cred' = chatgpt_api_key )\nas\n$$\nimport _snowflake\nimport json\nfrom openai import AzureOpenAI\nclient = AzureOpenAI(\n    api_key=_snowflake.get_generic_secret_string(\"cred\"),\n    api_version='2023-03-15-preview',\n    # Update Resource and Model to the base_url below\n    base_url=\"https://hackgpt4.openai.azure.com/openai/deployments/hackdeploy/chat/completions?api-version=2024-02-15-preview\"\n    )\ndef ask_chatGPT(instructions, list_, user_context):\n    response = client.chat.completions.create(\n    model='{gpt-4}',\n    messages = [\n        {\n            \"role\": \"system\",\n            \"content\": json.dumps({\n                \"SYSTEM\": f\"Follow these: {instructions}\",\n                \"CONTEXT_LIST\": f\"Use this list to select from {list_}\",\n                \"USER_CONTEXT\": f\"Use this image for your response: {user_context}\"\n            })\n        }\n    ],\n    max_tokens=2000 )\n    return response.choices[0].message.content\n$$;",
   "execution_count": null
  },
  {
   "cell_type": "code",
   "id": "890e6a82-3bbe-497f-a702-433b1cc14b52",
   "metadata": {
    "language": "python",
    "name": "fetchfiles",
    "collapsed": false
   },
   "outputs": [],
   "source": "def list_files_in_stage(stage_name):\n    query = f\"LIST @{stage_name}\"\n    return session.sql(query).collect()\n\ndef get_presigned_url(stage_name, file_name):\n    \n    query = f\"SELECT GET_PRESIGNED_URL(@{stage_name}, '{file_name}') AS presigned_url\"\n    result = session.sql(query).collect()\n    return result[0]['PRESIGNED_URL'] \n    \ndef process_files(stage_name):\n    # List files in the stage\n    files = list_files_in_stage(stage_name)\n\n    # Initialize an empty list to store file names and URLs\n    data = []\n\n    for file in files:\n        file_name = file[0]  # First element is the file path\n        print(f\"Processing file: {file_name}\")\n        \n        # Get the presigned URL for the file\n        presigned_url = get_presigned_url(stage_name, file_name)\n        \n        # Add a different descriptive text based on the file name\n        if \"saladwithnuts\" in file_name:\n            description = \"This food contains nuts whereas I ordered nut free option.\"\n        elif \"buritoleaking\" in file_name:\n            description = \"This food is not made properly as expected. The food was leaking.\"\n        file_name=file_name.split('/')[-1] \n\n        \n        data.append({\n            'file_name': file_name, \n            'presigned_url': presigned_url, \n            'description': description\n        })\n\n    # Convert the list into a pandas DataFrame\n    df = pd.DataFrame(data)\n    sp_df=session.create_dataframe(df)\n    sp_df.write.mode(\"overwrite\").save_as_table(\"Customer_Unstructured_complaints\")\n                                                \n    return sp_df\n    ",
   "execution_count": null
  },
  {
   "cell_type": "code",
   "id": "2fdf3680-8e1d-42ab-8df7-a0be6ddf5861",
   "metadata": {
    "language": "python",
    "name": "execute_processfiles",
    "collapsed": false
   },
   "outputs": [],
   "source": "process_files(\"image_stage\")",
   "execution_count": null
  },
  {
   "cell_type": "code",
   "id": "9dee0055-2fac-417c-8735-e925b95b39b5",
   "metadata": {
    "language": "python",
    "name": "displayimage",
    "collapsed": false
   },
   "outputs": [],
   "source": "image=session.file.get_stream(\"@IMAGE_STAGE/saladwithnuts.png\", decompress=False).read() \nst.image(image)",
   "execution_count": null
  },
  {
   "cell_type": "code",
   "id": "9b2a354c-60fe-4207-82b8-7e60a1d10ee7",
   "metadata": {
    "language": "python",
    "name": "getfileurl",
    "collapsed": false,
    "codeCollapsed": false
   },
   "outputs": [],
   "source": "selected_image='saladwithnuts.png'\nimage_string = session.sql(f\"\"\"select GET_PRESIGNED_URL(@image_stage, 'saladwithnuts.png')\"\"\").collect()[0][0]\nimage_string",
   "execution_count": null
  },
  {
   "cell_type": "code",
   "id": "0457e0e7-3009-46db-b0e2-421c64227a9e",
   "metadata": {
    "language": "python",
    "name": "complaints_df",
    "collapsed": false
   },
   "outputs": [],
   "source": "cust_complaintsdf=session.table(\"Customer_Unstructured_complaints\").to_pandas()\ndf_desc = cust_complaintsdf['description']\ndf_url=cust_complaintsdf['presigned_url']\ndf_filename=cust_complaintsdf['file_name']\n\nselected_desc_index = cust_complaintsdf[cust_complaintsdf['file_name'] == selected_image].index[0]\ndescription = df_desc.iloc[selected_desc_index]\n",
   "execution_count": null
  },
  {
   "cell_type": "code",
   "id": "df9cc3c0-1349-4168-869e-89943926c2bb",
   "metadata": {
    "language": "python",
    "name": "prompt_eng",
    "collapsed": false
   },
   "outputs": [],
   "source": "\ndefault_prompt = f\"You are a customer support agent. Look at the image and recommend a resolution based on the issue reported by the user in the '{description}'. If the concern by the user does not match with the photo respond back with a message asking for further clarification.\"\n\nsystem = st.text_area(\"System instructions\", value=default_prompt).replace(\"'\",\"\")\n\nresult = session.sql(f\"\"\"SELECT chatgpt_image('{system}','{df_url}','{image_string}')\"\"\").collect()\nst.header('Answer')\nst.write(result[0][0].replace('\"','')) ",
   "execution_count": null
  }
 ]
}